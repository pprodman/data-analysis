{
 "cells": [
  {
   "cell_type": "code",
   "execution_count": null,
   "id": "796a4478",
   "metadata": {},
   "outputs": [],
   "source": [
    "# -----------------------------------------------------------------\n",
    "# Notebook de Limpieza: Organizations\n",
    "# -----------------------------------------------------------------\n",
    "#\n",
    "# Objetivo: Leer el archivo raw 'organizations_raw.csv', aplicar un\n",
    "# proceso de limpieza completo y guardar el resultado en la carpeta 'processed'.\n",
    "#\n",
    "# Autor: Tu Nombre\n",
    "# Fecha: 2023-10-27\n",
    "#\n",
    "# -----------------------------------------------------------------"
   ]
  },
  {
   "cell_type": "markdown",
   "id": "aae1d0e0",
   "metadata": {},
   "source": [
    "# 1. Carga de Datos\n",
    "En esta sección, cargamos el archivo raw y realizamos una exploración inicial para entender su estado."
   ]
  },
  {
   "cell_type": "markdown",
   "id": "82e7da38",
   "metadata": {},
   "source": [
    "Celda 1: Configuración e Imports"
   ]
  },
  {
   "cell_type": "code",
   "execution_count": null,
   "id": "a32ab6fd",
   "metadata": {},
   "outputs": [],
   "source": [
    "import pandas as pd\n",
    "import numpy as np\n",
    "from pathlib import Path\n",
    "\n",
    "# --- CONFIGURACIÓN ---\n",
    "# ¡Cambia estas variables para cada nuevo archivo!\n",
    "RAW_FILE_NAME = 'organizations_raw.csv'\n",
    "PROCESSED_FILE_NAME = 'organizations.csv'\n",
    "\n",
    "# Rutas del proyecto (esto no debería cambiar si tu estructura es consistente)\n",
    "PROJECT_ROOT = Path('.').resolve().parent # Asumiendo que el notebook está en una carpeta 'notebooks'\n",
    "DATA_DIR = PROJECT_ROOT / 'data'\n",
    "RAW_DIR = DATA_DIR / 'raw'\n",
    "PROCESSED_DIR = DATA_DIR / 'processed'\n",
    "\n",
    "# Construir las rutas completas\n",
    "raw_path = RAW_DIR / RAW_FILE_NAME\n",
    "processed_path = PROCESSED_DIR / PROCESSED_FILE_NAME"
   ]
  },
  {
   "cell_type": "markdown",
   "id": "2cec43e4",
   "metadata": {},
   "source": [
    "Celda 2: Cargar el CSV"
   ]
  },
  {
   "cell_type": "code",
   "execution_count": null,
   "id": "ecb5a4b7",
   "metadata": {},
   "outputs": [],
   "source": [
    "# Cargar el archivo CSV en un DataFrame de Pandas\n",
    "try:\n",
    "    df = pd.read_csv(raw_path, delimiter=';')\n",
    "    print(f\"✅ Archivo '{RAW_FILE_NAME}' cargado exitosamente.\")\n",
    "    print(f\"El DataFrame tiene {df.shape[0]} filas y {df.shape[1]} columnas.\")\n",
    "except FileNotFoundError:\n",
    "    print(f\"❌ ERROR: No se pudo encontrar el archivo en la ruta: {raw_path}\")"
   ]
  },
  {
   "cell_type": "markdown",
   "id": "0e3c9a56",
   "metadata": {},
   "source": [
    "Celda 3: Exploración Inicial\n"
   ]
  },
  {
   "cell_type": "code",
   "execution_count": null,
   "id": "fafbdb64",
   "metadata": {},
   "outputs": [],
   "source": [
    "# Un primer vistazo a los datos\n",
    "print(\"--- Primeras 5 filas ---\")\n",
    "display(df.head())\n",
    "\n",
    "print(\"\\n--- Información del DataFrame y tipos de datos ---\")\n",
    "df.info()\n",
    "\n",
    "print(\"\\n--- Estadísticas descriptivas de las columnas numéricas ---\")\n",
    "display(df.describe())\n",
    "\n",
    "print(\"\\n--- Conteo de valores nulos por columna ---\")\n",
    "print(df.isnull().sum())"
   ]
  },
  {
   "cell_type": "markdown",
   "id": "7969b87d",
   "metadata": {},
   "source": [
    "# 2. Proceso de Limpieza\n",
    "Aquí aplicamos la checklist de limpieza paso a paso.\n",
    "### 2.1. Limpieza Estructural\n",
    "Celda 4: Estandarizar Nombres de Columnas"
   ]
  },
  {
   "cell_type": "code",
   "execution_count": null,
   "id": "f3f76736",
   "metadata": {},
   "outputs": [],
   "source": [
    "print(\"Nombres de columna originales:\", df.columns.tolist())\n",
    "df.columns = [col.lower().replace(' ', '_').strip() for col in df.columns]\n",
    "print(\"Nombres de columna estandarizados:\", df.columns.tolist())"
   ]
  },
  {
   "cell_type": "markdown",
   "id": "c222497c",
   "metadata": {},
   "source": [
    "Celda 5: Eliminar Duplicados"
   ]
  },
  {
   "cell_type": "code",
   "execution_count": null,
   "id": "664b5558",
   "metadata": {},
   "outputs": [],
   "source": [
    "initial_rows = len(df)\n",
    "df.drop_duplicates(inplace=True)\n",
    "final_rows = len(df)\n",
    "print(f\"Se eliminaron {initial_rows - final_rows} filas duplicadas. Quedan {final_rows} filas.\")"
   ]
  },
  {
   "cell_type": "markdown",
   "id": "a84dffc0",
   "metadata": {},
   "source": [
    "### 2.2. Corrección de Tipos de Datos\n",
    "Celda 6: Convertir columnas a numéricas"
   ]
  },
  {
   "cell_type": "code",
   "execution_count": null,
   "id": "1cbe806b",
   "metadata": {},
   "outputs": [],
   "source": [
    "# Lista de columnas que deberían ser numéricas\n",
    "numeric_cols = ['zip', 'revenue', 'utilization']\n",
    "\n",
    "for col in numeric_cols:\n",
    "    # 'coerce' convierte los valores no válidos en NaN (Nulo)\n",
    "    df[col] = pd.to_numeric(df[col], errors='coerce')\n",
    "\n",
    "print(\"Tipos de datos después de la conversión a numérico:\")\n",
    "df[numeric_cols].info()"
   ]
  },
  {
   "cell_type": "markdown",
   "id": "a7a93463",
   "metadata": {},
   "source": [
    "### 2.3. Manejo de Valores Nulos\n",
    "Celda 7: Imputar (rellenar) valores nulos"
   ]
  },
  {
   "cell_type": "code",
   "execution_count": null,
   "id": "91296321",
   "metadata": {},
   "outputs": [],
   "source": [
    "print(\"Valores nulos ANTES de la imputación:\")\n",
    "print(df.isnull().sum())\n",
    "\n",
    "# Estrategia de imputación\n",
    "df['revenue'].fillna(0, inplace=True)\n",
    "df['utilization'].fillna(0, inplace=True) # Asumimos 0 si no hay dato\n",
    "df['phone'].fillna('No disponible', inplace=True)\n",
    "# ... añade otras reglas de imputación aquí ...\n",
    "\n",
    "# Eliminar filas donde columnas clave son nulas\n",
    "df.dropna(subset=['id', 'name'], inplace=True)\n",
    "\n",
    "print(\"\\nValores nulos DESPUÉS de la imputación y borrado:\")\n",
    "print(df.isnull().sum())"
   ]
  },
  {
   "cell_type": "markdown",
   "id": "95b34b98",
   "metadata": {},
   "source": [
    "### 2.4. Limpieza de Contenido y Formato\n",
    "Celda 8: Limpiar columnas de texto"
   ]
  },
  {
   "cell_type": "code",
   "execution_count": null,
   "id": "10fd90a9",
   "metadata": {},
   "outputs": [],
   "source": [
    "# Quitar espacios en blanco al principio y al final\n",
    "for col in df.select_dtypes(include=['object']).columns:\n",
    "    df[col] = df[col].str.strip()\n",
    "\n",
    "# Estandarizar mayúsculas/minúsculas\n",
    "df['state'] = df['state'].str.upper()\n",
    "df['city'] = df['city'].str.title()\n",
    "\n",
    "print(\"Ejemplo de la columna 'city' después de la limpieza:\")\n",
    "print(df['city'].head())"
   ]
  },
  {
   "cell_type": "markdown",
   "id": "a221da22",
   "metadata": {},
   "source": [
    "### 2.5. Validación de Datos\n",
    "Celda 9: Filtrar valores fuera de rango o inválidos"
   ]
  },
  {
   "cell_type": "code",
   "execution_count": null,
   "id": "4c5c9241",
   "metadata": {},
   "outputs": [],
   "source": [
    "# Ejemplo: Mantener solo filas donde el ID tiene una longitud específica\n",
    "initial_rows = len(df)\n",
    "df = df[df['id'].str.len() == 36]\n",
    "print(f\"Se eliminaron {initial_rows - len(df)} filas con ID de longitud inválida.\")\n",
    "\n",
    "# Ejemplo: Asegurar que utilization esté en un rango lógico\n",
    "df = df[(df['utilization'] >= 0) & (df['utilization'] <= 100)]"
   ]
  },
  {
   "cell_type": "markdown",
   "id": "916659d4",
   "metadata": {},
   "source": [
    "# 3. Verificación Final y Guardado\n",
    "Última revisión del DataFrame limpio antes de guardarlo."
   ]
  },
  {
   "cell_type": "markdown",
   "id": "d81b309d",
   "metadata": {},
   "source": [
    "Celda 10: Verificación Final"
   ]
  },
  {
   "cell_type": "code",
   "execution_count": null,
   "id": "e059660e",
   "metadata": {},
   "outputs": [],
   "source": [
    "print(\"--- Información final del DataFrame limpio ---\")\n",
    "df.info()\n",
    "\n",
    "print(\"\\n--- Conteo final de nulos ---\")\n",
    "print(df.isnull().sum())\n",
    "\n",
    "print(\"\\n--- Muestra final de los datos ---\")\n",
    "display(df.head())"
   ]
  },
  {
   "cell_type": "markdown",
   "id": "dcdd3c79",
   "metadata": {},
   "source": [
    "Celda 11: Guardar el archivo procesado"
   ]
  },
  {
   "cell_type": "code",
   "execution_count": null,
   "id": "c6f4b3b2",
   "metadata": {},
   "outputs": [],
   "source": [
    "# Asegurarse de que el directorio de salida exista\n",
    "PROCESSED_DIR.mkdir(parents=True, exist_ok=True)\n",
    "\n",
    "# Guardar el DataFrame limpio a un nuevo archivo CSV\n",
    "df.to_csv(processed_path, index=False, sep=';')\n",
    "\n",
    "print(f\"✅ Proceso completado. Archivo limpio guardado en: \\n{processed_path}\")"
   ]
  }
 ],
 "metadata": {
  "language_info": {
   "name": "python"
  }
 },
 "nbformat": 4,
 "nbformat_minor": 5
}
